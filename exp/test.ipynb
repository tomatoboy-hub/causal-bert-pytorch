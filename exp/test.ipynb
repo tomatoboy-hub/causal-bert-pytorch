{
 "cells": [
  {
   "cell_type": "code",
   "execution_count": 1,
   "metadata": {},
   "outputs": [],
   "source": [
    "import pandas as pd\n",
    "import sys \n",
    "sys.path.append(\"../\")"
   ]
  },
  {
   "cell_type": "code",
   "execution_count": null,
   "metadata": {},
   "outputs": [],
   "source": [
    "import torch\n",
    "torch.cuda.device_count()"
   ]
  },
  {
   "cell_type": "code",
   "execution_count": null,
   "metadata": {},
   "outputs": [],
   "source": [
    "from CausalBert_base import CausalBertWrapper\n",
    "df = pd.read_csv(\"../testdata.csv\")\n",
    "\n",
    "cb = CausalBertWrapper(batch_size=2, g_weight=0.1, Q_weight=0.1,mlm_weight=1)\n",
    "cb.train(df[\"text\"], df[\"C\"], df[\"T\"], df[\"Y\"], epochs = 1)\n",
    "print(cb.ATE(df['C'],df['text'],platt_scaling=True))"
   ]
  },
  {
   "cell_type": "code",
   "execution_count": null,
   "metadata": {},
   "outputs": [],
   "source": [
    "from CausalBert import CausalBertWrapper\n",
    "df = pd.read_csv(\"../testdata.csv\")\n",
    "\n",
    "cb = CausalBertWrapper(batch_size=2, g_weight=0.1, Q_weight=0.1,mlm_weight=1)\n",
    "cb.train(df[\"text\"], df[\"C\"], df[\"T\"], df[\"Y\"], epochs = 1)\n",
    "print(cb.ATE(df['C'],df['text'],platt_scaling=True))"
   ]
  },
  {
   "cell_type": "code",
   "execution_count": null,
   "metadata": {},
   "outputs": [],
   "source": []
  }
 ],
 "metadata": {
  "kernelspec": {
   "display_name": "Python 3",
   "language": "python",
   "name": "python3"
  },
  "language_info": {
   "codemirror_mode": {
    "name": "ipython",
    "version": 3
   },
   "file_extension": ".py",
   "mimetype": "text/x-python",
   "name": "python",
   "nbconvert_exporter": "python",
   "pygments_lexer": "ipython3",
   "version": "3.8.10"
  }
 },
 "nbformat": 4,
 "nbformat_minor": 2
}
