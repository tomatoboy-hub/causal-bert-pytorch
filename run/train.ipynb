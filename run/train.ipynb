{
 "cells": [
  {
   "cell_type": "code",
   "execution_count": 1,
   "metadata": {},
   "outputs": [
    {
     "name": "stderr",
     "output_type": "stream",
     "text": [
      "/root/.venv/lib/python3.8/site-packages/tqdm/auto.py:21: TqdmWarning: IProgress not found. Please update jupyter and ipywidgets. See https://ipywidgets.readthedocs.io/en/stable/user_install.html\n",
      "  from .autonotebook import tqdm as notebook_tqdm\n"
     ]
    }
   ],
   "source": [
    "import sys\n",
    "sys.path.append('/root/graduation_thetis/causal-bert-pytorch/')\n",
    "from src.modelmodule.modelmodule import ImageCausalModel\n",
    "import pandas as pd\n",
    "import numpy as np\n",
    "from src.datamodule.datamodule import CausalImageDataModule\n",
    "from pytorch_lightning import Trainer\n",
    "import torch\n",
    "import hydra\n",
    "from omegaconf import DictConfig\n",
    "from pytorch_lightning.loggers import WandbLogger\n",
    "\n",
    "@hydra.main(config_path = \"conf\", config_name = \"train\", version_base = '1.3')\n",
    "def main(cfg:DictConfig):\n",
    "    print(cfg)\n",
    "    df = pd.read_csv(\"/root/graduation_thetis/causal-bert-pytorch/input/outputs_v4.csv\")\n",
    "    print(df.head())\n",
    "    df[\"light_or_dark\"] = df[\"light_or_dark\"].apply(lambda x : 1 if x == \"light\" else 0)\n",
    "\n",
    "    data_module = CausalImageDataModule(cfg,df)\n",
    "    train_dataset_size = len(data_module.train_dataset)\n",
    "    steps_per_epoch = train_dataset_size // cfg.batch_size\n",
    "    total_training_steps = steps_per_epoch * cfg.epoch\n",
    "    cfg.total_training_steps = total_training_steps\n",
    "\n",
    "    model = ImageCausalModel(cfg)\n",
    "    wandb_logger = WandbLogger(project='causal_image',\n",
    "                               name = f'{cfg.pretrained_model}-{cfg.batch_size}-{cfg.epoch}', \n",
    "                               save_dir='logs')\n",
    "    wandb_logger.experiment.config.update(dict(cfg))\n",
    "\n",
    "    trainer = Trainer(\n",
    "        logger = wandb_logger,\n",
    "        max_epochs = 1,\n",
    "        accelerator='gpu' if torch.cuda.is_available() else 'cpu',\n",
    "        enable_progress_bar = True\n",
    "    )\n",
    "\n",
    "    trainer.fit(model, data_module)\n",
    "    \"\"\"\n",
    "    trainer = Trainer(\n",
    "        max_epochs = 1,\n",
    "        accelerator='gpu' if torch.cuda.is_available() else 'cpu',\n",
    "        enable_progress_bar = True\n",
    "    )\n",
    "    \"\"\"\n",
    "    \n",
    "    predictions = trainer.predict(model, dataloaders = data_module)\n",
    "    return predictions"
   ]
  },
  {
   "cell_type": "code",
   "execution_count": null,
   "metadata": {},
   "outputs": [],
   "source": []
  }
 ],
 "metadata": {
  "kernelspec": {
   "display_name": ".venv",
   "language": "python",
   "name": "python3"
  },
  "language_info": {
   "codemirror_mode": {
    "name": "ipython",
    "version": 3
   },
   "file_extension": ".py",
   "mimetype": "text/x-python",
   "name": "python",
   "nbconvert_exporter": "python",
   "pygments_lexer": "ipython3",
   "version": "3.8.10"
  }
 },
 "nbformat": 4,
 "nbformat_minor": 2
}
