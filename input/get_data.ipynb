{
 "cells": [
  {
   "cell_type": "markdown",
   "metadata": {},
   "source": [
    "# get_data.ipynb\n",
    "\n",
    "これはkaggleのデータセットから画像データを取得するNotebookです"
   ]
  },
  {
   "cell_type": "code",
   "execution_count": 1,
   "metadata": {},
   "outputs": [],
   "source": [
    "import sys\n",
    "sys.path.append(\"../\")"
   ]
  },
  {
   "cell_type": "code",
   "execution_count": 2,
   "metadata": {},
   "outputs": [
    {
     "data": {
      "text/html": [
       "<div>\n",
       "<style scoped>\n",
       "    .dataframe tbody tr th:only-of-type {\n",
       "        vertical-align: middle;\n",
       "    }\n",
       "\n",
       "    .dataframe tbody tr th {\n",
       "        vertical-align: top;\n",
       "    }\n",
       "\n",
       "    .dataframe thead th {\n",
       "        text-align: right;\n",
       "    }\n",
       "</style>\n",
       "<table border=\"1\" class=\"dataframe\">\n",
       "  <thead>\n",
       "    <tr style=\"text-align: right;\">\n",
       "      <th></th>\n",
       "      <th>name</th>\n",
       "      <th>main_category</th>\n",
       "      <th>sub_category</th>\n",
       "      <th>image</th>\n",
       "      <th>link</th>\n",
       "      <th>ratings</th>\n",
       "      <th>no_of_ratings</th>\n",
       "      <th>discount_price</th>\n",
       "      <th>actual_price</th>\n",
       "    </tr>\n",
       "  </thead>\n",
       "  <tbody>\n",
       "    <tr>\n",
       "      <th>0</th>\n",
       "      <td>Fastrack Reflex Play|1.3” AMOLED Display Smart...</td>\n",
       "      <td>accessories</td>\n",
       "      <td>Watches</td>\n",
       "      <td>https://m.media-amazon.com/images/W/IMAGERENDE...</td>\n",
       "      <td>https://www.amazon.in/Fastrack-Reflex-AMOLED-D...</td>\n",
       "      <td>3.6</td>\n",
       "      <td>3,013</td>\n",
       "      <td>₹3,495</td>\n",
       "      <td>₹7,995</td>\n",
       "    </tr>\n",
       "    <tr>\n",
       "      <th>1</th>\n",
       "      <td>Fossil Gen 5E Smartwatch with AMOLED Screen, W...</td>\n",
       "      <td>accessories</td>\n",
       "      <td>Watches</td>\n",
       "      <td>https://m.media-amazon.com/images/W/IMAGERENDE...</td>\n",
       "      <td>https://www.amazon.in/Fossil-Smartwatch-stainl...</td>\n",
       "      <td>3.9</td>\n",
       "      <td>12,329</td>\n",
       "      <td>₹14,795</td>\n",
       "      <td>₹18,495</td>\n",
       "    </tr>\n",
       "    <tr>\n",
       "      <th>2</th>\n",
       "      <td>Fossil Analog Rose Gold Dial Women's Watch-BQ3181</td>\n",
       "      <td>accessories</td>\n",
       "      <td>Watches</td>\n",
       "      <td>https://m.media-amazon.com/images/W/IMAGERENDE...</td>\n",
       "      <td>https://www.amazon.in/Fossil-Analog-Rose-Women...</td>\n",
       "      <td>4.5</td>\n",
       "      <td>2,796</td>\n",
       "      <td>₹6,170</td>\n",
       "      <td>₹9,495</td>\n",
       "    </tr>\n",
       "    <tr>\n",
       "      <th>3</th>\n",
       "      <td>LOUIS DEVIN LD-L144-BLU-CH Mesh Steel Chain An...</td>\n",
       "      <td>accessories</td>\n",
       "      <td>Watches</td>\n",
       "      <td>https://m.media-amazon.com/images/W/IMAGERENDE...</td>\n",
       "      <td>https://www.amazon.in/LOUIS-DEVIN-Analogue-Col...</td>\n",
       "      <td>4.0</td>\n",
       "      <td>5,276</td>\n",
       "      <td>₹289</td>\n",
       "      <td>₹1,999</td>\n",
       "    </tr>\n",
       "    <tr>\n",
       "      <th>4</th>\n",
       "      <td>IMPERIOUS - THE ROYAL WAY Analogue Women's Wat...</td>\n",
       "      <td>accessories</td>\n",
       "      <td>Watches</td>\n",
       "      <td>https://m.media-amazon.com/images/W/IMAGERENDE...</td>\n",
       "      <td>https://www.amazon.in/Imperious-Analog-Black-W...</td>\n",
       "      <td>3.9</td>\n",
       "      <td>6,137</td>\n",
       "      <td>₹759</td>\n",
       "      <td>₹1,999</td>\n",
       "    </tr>\n",
       "  </tbody>\n",
       "</table>\n",
       "</div>"
      ],
      "text/plain": [
       "                                                name main_category  \\\n",
       "0  Fastrack Reflex Play|1.3” AMOLED Display Smart...   accessories   \n",
       "1  Fossil Gen 5E Smartwatch with AMOLED Screen, W...   accessories   \n",
       "2  Fossil Analog Rose Gold Dial Women's Watch-BQ3181   accessories   \n",
       "3  LOUIS DEVIN LD-L144-BLU-CH Mesh Steel Chain An...   accessories   \n",
       "4  IMPERIOUS - THE ROYAL WAY Analogue Women's Wat...   accessories   \n",
       "\n",
       "  sub_category                                              image  \\\n",
       "0      Watches  https://m.media-amazon.com/images/W/IMAGERENDE...   \n",
       "1      Watches  https://m.media-amazon.com/images/W/IMAGERENDE...   \n",
       "2      Watches  https://m.media-amazon.com/images/W/IMAGERENDE...   \n",
       "3      Watches  https://m.media-amazon.com/images/W/IMAGERENDE...   \n",
       "4      Watches  https://m.media-amazon.com/images/W/IMAGERENDE...   \n",
       "\n",
       "                                                link ratings no_of_ratings  \\\n",
       "0  https://www.amazon.in/Fastrack-Reflex-AMOLED-D...     3.6         3,013   \n",
       "1  https://www.amazon.in/Fossil-Smartwatch-stainl...     3.9        12,329   \n",
       "2  https://www.amazon.in/Fossil-Analog-Rose-Women...     4.5         2,796   \n",
       "3  https://www.amazon.in/LOUIS-DEVIN-Analogue-Col...     4.0         5,276   \n",
       "4  https://www.amazon.in/Imperious-Analog-Black-W...     3.9         6,137   \n",
       "\n",
       "  discount_price actual_price  \n",
       "0         ₹3,495       ₹7,995  \n",
       "1        ₹14,795      ₹18,495  \n",
       "2         ₹6,170       ₹9,495  \n",
       "3           ₹289       ₹1,999  \n",
       "4           ₹759       ₹1,999  "
      ]
     },
     "execution_count": 2,
     "metadata": {},
     "output_type": "execute_result"
    }
   ],
   "source": [
    "import pandas as pd\n",
    "df = pd.read_csv('Watches.csv')\n",
    "df.head()"
   ]
  },
  {
   "cell_type": "code",
   "execution_count": 3,
   "metadata": {},
   "outputs": [
    {
     "data": {
      "text/plain": [
       "19133"
      ]
     },
     "execution_count": 3,
     "metadata": {},
     "output_type": "execute_result"
    }
   ],
   "source": [
    "len(df)"
   ]
  },
  {
   "cell_type": "code",
   "execution_count": 6,
   "metadata": {},
   "outputs": [
    {
     "name": "stdout",
     "output_type": "stream",
     "text": [
      "https://m.media-amazon.com/images/W/IMAGERENDERING_521856-T1/images/I/71MXBWGALUL._AC_UL320_.jpg\n",
      "https://m.media-amazon.com/images/W/IMAGERENDERING_521856-T1/images/I/81gU0NVV5WL._AC_UL320_.jpg\n",
      "https://m.media-amazon.com/images/W/IMAGERENDERING_521856-T1/images/I/611I0f+I+MS._AC_UL320_.jpg\n",
      "https://m.media-amazon.com/images/W/IMAGERENDERING_521856-T1/images/I/81jnv+iz+ZL._AC_UL320_.jpg\n",
      "https://m.media-amazon.com/images/W/IMAGERENDERING_521856-T1/images/I/51LTJjshaIL._AC_UL320_.jpg\n",
      "https://m.media-amazon.com/images/W/IMAGERENDERING_521856-T1/images/I/81-uDhNwXZL._AC_UL320_.jpg\n",
      "https://m.media-amazon.com/images/W/IMAGERENDERING_521856-T1/images/I/51sxKFEEUJL._AC_UL320_.jpg\n",
      "https://m.media-amazon.com/images/W/IMAGERENDERING_521856-T1/images/I/71pVJzxnrTL._AC_UL320_.jpg\n",
      "https://m.media-amazon.com/images/W/IMAGERENDERING_521856-T1/images/I/71S8hn6xv4L._AC_UL320_.jpg\n",
      "https://m.media-amazon.com/images/W/IMAGERENDERING_521856-T1/images/I/91zvsjtEEDL._AC_UL320_.jpg\n",
      "https://m.media-amazon.com/images/W/IMAGERENDERING_521856-T1/images/I/616P6+nn-rL._AC_UL320_.jpg\n",
      "https://m.media-amazon.com/images/W/IMAGERENDERING_521856-T1/images/I/617cYEKOE9L._AC_UL320_.jpg\n",
      "https://m.media-amazon.com/images/W/IMAGERENDERING_521856-T1/images/I/61M-iMX3f9L._AC_UL320_.jpg\n",
      "https://m.media-amazon.com/images/W/IMAGERENDERING_521856-T1/images/I/817iC5Eq49L._AC_UL320_.jpg\n",
      "https://m.media-amazon.com/images/W/IMAGERENDERING_521856-T1/images/I/81vriFi1PoL._AC_UL320_.jpg\n",
      "https://m.media-amazon.com/images/W/IMAGERENDERING_521856-T1/images/I/61UTf1uvl9L._AC_UL320_.jpg\n",
      "https://m.media-amazon.com/images/W/IMAGERENDERING_521856-T1/images/I/715rdF2R1wL._AC_UL320_.jpg\n",
      "https://m.media-amazon.com/images/W/IMAGERENDERING_521856-T1/images/I/616LuWzn7bL._AC_UL320_.jpg\n",
      "https://m.media-amazon.com/images/W/IMAGERENDERING_521856-T1/images/I/71Yl+kTwWwL._AC_UL320_.jpg\n",
      "https://m.media-amazon.com/images/W/IMAGERENDERING_521856-T1/images/I/71g3MJ4igiL._AC_UL320_.jpg\n",
      "https://m.media-amazon.com/images/W/IMAGERENDERING_521856-T1/images/I/716AYwyVuYL._AC_UL320_.jpg\n",
      "https://m.media-amazon.com/images/W/IMAGERENDERING_521856-T1/images/I/61KcsQohF2L._AC_UL320_.jpg\n",
      "https://m.media-amazon.com/images/W/IMAGERENDERING_521856-T1/images/I/71Gj-PAtAmL._AC_UL320_.jpg\n",
      "https://m.media-amazon.com/images/W/IMAGERENDERING_521856-T1/images/I/61xuL9-N-nL._AC_UL320_.jpg\n",
      "https://m.media-amazon.com/images/W/IMAGERENDERING_521856-T1/images/I/71crjcEFYSL._AC_UL320_.jpg\n",
      "https://m.media-amazon.com/images/W/IMAGERENDERING_521856-T1/images/I/71hC1byRyKL._AC_UL320_.jpg\n",
      "https://m.media-amazon.com/images/W/IMAGERENDERING_521856-T1/images/I/71LkgHnyHBL._AC_UL320_.jpg\n",
      "https://m.media-amazon.com/images/W/IMAGERENDERING_521856-T1/images/I/71zFIw5S0wL._AC_UL320_.jpg\n",
      "https://m.media-amazon.com/images/W/IMAGERENDERING_521856-T1/images/I/81Kz0UjXv0L._AC_UL320_.jpg\n",
      "https://m.media-amazon.com/images/W/IMAGERENDERING_521856-T1/images/I/71GUXx8a82L._AC_UL320_.jpg\n",
      "https://m.media-amazon.com/images/W/IMAGERENDERING_521856-T1/images/I/71OjjTMlskL._AC_UL320_.jpg\n"
     ]
    }
   ],
   "source": [
    "import urllib.request\n",
    "import time\n",
    "for i, row in df.iterrows():\n",
    "    url = str(row[\"image\"])\n",
    "    print(url)\n",
    "    try:\n",
    "        time.sleep(0.1)\n",
    "        urllib.request.urlretrieve(url, f\"/root/graduation_thetis/causal-bert-pytorch/input/watch_images/{i}.jpg\")\n",
    "        row[\"img_path\"] = f\"/root/graduation_thetis/causal-bert-pytorch/input/watch_images/{i}.jpg\"\n",
    "    except:\n",
    "        row[\"img_path\"] = None"
   ]
  },
  {
   "cell_type": "code",
   "execution_count": 3,
   "metadata": {},
   "outputs": [],
   "source": [
    "import os\n",
    "\n",
    "for i, row in df.iterrows():\n",
    "    img_path = f\"/root/graduation_thetis/input/watch_images/{i}.jpg\"\n",
    "    img_path2 = f\"/root/graduation_thetis/causal-bert-pytorch/input/watch_images/{i}.jpg\"\n",
    "    if os.path.exists(img_path2):\n",
    "        df.at[i, \"img_path\"] = img_path2  # ファイルが存在する場合はパスを設定\n",
    "    else:\n",
    "        df.at[i, \"img_path\"] = None  # 存在しない場合はNoneを設定\n"
   ]
  },
  {
   "cell_type": "code",
   "execution_count": 5,
   "metadata": {},
   "outputs": [
    {
     "data": {
      "text/plain": [
       "19133"
      ]
     },
     "execution_count": 5,
     "metadata": {},
     "output_type": "execute_result"
    }
   ],
   "source": [
    "df[\"img_path\"].isnull().sum()"
   ]
  },
  {
   "cell_type": "code",
   "execution_count": 8,
   "metadata": {},
   "outputs": [],
   "source": [
    "df.to_csv(\"./watch_img.csv\")"
   ]
  },
  {
   "cell_type": "code",
   "execution_count": null,
   "metadata": {},
   "outputs": [],
   "source": []
  }
 ],
 "metadata": {
  "kernelspec": {
   "display_name": ".venv",
   "language": "python",
   "name": "python3"
  },
  "language_info": {
   "codemirror_mode": {
    "name": "ipython",
    "version": 3
   },
   "file_extension": ".py",
   "mimetype": "text/x-python",
   "name": "python",
   "nbconvert_exporter": "python",
   "pygments_lexer": "ipython3",
   "version": "3.8.10"
  }
 },
 "nbformat": 4,
 "nbformat_minor": 2
}
