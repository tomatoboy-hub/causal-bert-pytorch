{
 "cells": [
  {
   "cell_type": "code",
   "execution_count": 14,
   "metadata": {},
   "outputs": [],
   "source": [
    "import pandas as pd\n",
    "import numpy as np\n",
    "import torch"
   ]
  },
  {
   "cell_type": "code",
   "execution_count": 3,
   "metadata": {},
   "outputs": [],
   "source": [
    "df = pd.read_csv(\"outputs_v3.csv\")"
   ]
  },
  {
   "cell_type": "code",
   "execution_count": 5,
   "metadata": {},
   "outputs": [
    {
     "data": {
      "text/plain": [
       "Index(['Unnamed: 0.2', 'Unnamed: 0.1', 'Unnamed: 0', 'name', 'main_category',\n",
       "       'sub_category', 'image', 'link', 'ratings', 'no_of_ratings',\n",
       "       'discount_price', 'actual_price', 'img_path', 'actual_price_yen',\n",
       "       'embedding_path', 'embedding', 'price_ave', 'output', 'output_2v',\n",
       "       'brightness', 'light_or_dark'],\n",
       "      dtype='object')"
      ]
     },
     "execution_count": 5,
     "metadata": {},
     "output_type": "execute_result"
    }
   ],
   "source": [
    "df.columns"
   ]
  },
  {
   "cell_type": "markdown",
   "metadata": {},
   "source": [
    "## 傾向スコアの計算"
   ]
  },
  {
   "cell_type": "code",
   "execution_count": 7,
   "metadata": {},
   "outputs": [
    {
     "data": {
      "text/plain": [
       "0       1\n",
       "1       0\n",
       "2       1\n",
       "3       1\n",
       "4       0\n",
       "       ..\n",
       "5106    0\n",
       "5107    0\n",
       "5108    0\n",
       "5109    1\n",
       "5110    0\n",
       "Name: price_ave, Length: 5111, dtype: int64"
      ]
     },
     "execution_count": 7,
     "metadata": {},
     "output_type": "execute_result"
    }
   ],
   "source": [
    "df.price_ave"
   ]
  },
  {
   "cell_type": "code",
   "execution_count": 9,
   "metadata": {},
   "outputs": [
    {
     "name": "stdout",
     "output_type": "stream",
     "text": [
      "light_or_darkがdarkであるもののうち、prive_aveが1である確率: 0.2912442396313364\n"
     ]
    }
   ],
   "source": [
    "\n",
    "# 'light_or_dark'が'dark'である行をフィルタリング\n",
    "dark_data = df[df['light_or_dark'] == 'dark']\n",
    "# 'prive_ave'が1である行の割合を計算\n",
    "probability = (dark_data['price_ave'] == 1).mean()\n",
    "\n",
    "print(f\"light_or_darkがdarkであるもののうち、prive_aveが1である確率: {probability}\")"
   ]
  },
  {
   "cell_type": "code",
   "execution_count": 12,
   "metadata": {},
   "outputs": [
    {
     "name": "stdout",
     "output_type": "stream",
     "text": [
      "light_or_darkがlightであるもののうち、prive_aveが1である確率: 0.33184302036761054\n"
     ]
    }
   ],
   "source": [
    "# 'light_or_dark'が'dark'である行をフィルタリング\n",
    "dark_data = df[df['light_or_dark'] == 'light']\n",
    "# 'prive_ave'が1である行の割合を計算\n",
    "probability = (dark_data['price_ave'] == 1).mean()\n",
    "\n",
    "print(f\"light_or_darkがlightであるもののうち、prive_aveが1である確率: {probability}\")"
   ]
  },
  {
   "cell_type": "markdown",
   "metadata": {},
   "source": [
    "## 結果のシミュレーション"
   ]
  },
  {
   "cell_type": "code",
   "execution_count": null,
   "metadata": {},
   "outputs": [],
   "source": [
    "price_ave_given_dark_probs = np.array([0.29,0.33])"
   ]
  },
  {
   "cell_type": "code",
   "execution_count": null,
   "metadata": {},
   "outputs": [],
   "source": [
    "def outcome_sim(beta0, beta1, gamma, treatment, confounding, noise, setting = \"simple\"):\n",
    "    if setting == \"simple\":\n",
    "        y0 = beta1 * confounding\n",
    "        y1 = beta0 * y0\n",
    "\n",
    "        simulated_score = (1. - treatment) * y0 + treatment * y1 + gamma * noise\n",
    "    return simulated_score, y0,y1\n",
    "import numpy.random as random\n",
    "def make_price_dark_probs(df,treat_strength,con_strength, noise_level, setting = \"simple\", seed = 0):\n",
    "    price_ave_given_dark_probs = np.array([0.29,0.33])\n",
    "\n",
    "    np.random.seed(seed)\n",
    "    all_noise = np.array(random.normal(0,1,len(df)), dtype = np.float32)\n",
    "    all_thresholds = np.array(random.uniform(0,1,len(df)), dtype = np.float32)\n",
    "    \n",
    "    outcomes = []\n",
    "    y0s = []\n",
    "    y1s = []\n",
    "\n",
    "    for i, data in df.iterrows():\n",
    "        light_or_dark = 1 if data[\"light_or_dark\"] == \"light\" else 0\n",
    "        treatment = data[\"price_ave\"]\n",
    "\n",
    "        confounding = 3.0 * (price_ave_given_dark_probs[light_or_dark] - 0.25)\n",
    "        noise = all_noise[i]\n",
    "        y,y0,y1 = outcome_sim(treat_strength, con_strength, noise_level,treatment, confounding, noise, setting = setting)\n",
    "        simulated_prob = torch.nn.Sigmoid(y)\n",
    "        y0 = torch.nn.Sigmoid(y0)\n",
    "        y1 = torch.nn.Sigmoid(y1)\n",
    "        threshold = all_thresholds[i]\n",
    "        simulated_outcome = 1 if simulated_prob > threshold else 0\n",
    "        outcomes.append(simulated_outcome)\n",
    "        y0s.append(y0)\n",
    "        y1s.append(y1)\n",
    "        \n",
    "    df['outcome'] = outcomes\n",
    "    df['y0'] = y0s\n",
    "    df['y1'] = y1s\n",
    "    return df"
   ]
  }
 ],
 "metadata": {
  "kernelspec": {
   "display_name": ".venv",
   "language": "python",
   "name": "python3"
  },
  "language_info": {
   "codemirror_mode": {
    "name": "ipython",
    "version": 3
   },
   "file_extension": ".py",
   "mimetype": "text/x-python",
   "name": "python",
   "nbconvert_exporter": "python",
   "pygments_lexer": "ipython3",
   "version": "3.8.10"
  }
 },
 "nbformat": 4,
 "nbformat_minor": 2
}
