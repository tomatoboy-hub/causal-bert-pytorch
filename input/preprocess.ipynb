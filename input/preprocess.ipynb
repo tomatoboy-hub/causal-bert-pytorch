{
 "cells": [
  {
   "cell_type": "markdown",
   "metadata": {},
   "source": [
    "## preprocess.ipynb\n",
    "これはcsvファイルの前処理用のNotebookです"
   ]
  },
  {
   "cell_type": "code",
   "execution_count": 3,
   "metadata": {},
   "outputs": [],
   "source": [
    "import sys\n",
    "sys.path.append(\"../\")"
   ]
  },
  {
   "cell_type": "code",
   "execution_count": 4,
   "metadata": {},
   "outputs": [
    {
     "name": "stderr",
     "output_type": "stream",
     "text": [
      "/root/.venv/lib/python3.8/site-packages/tqdm/auto.py:21: TqdmWarning: IProgress not found. Please update jupyter and ipywidgets. See https://ipywidgets.readthedocs.io/en/stable/user_install.html\n",
      "  from .autonotebook import tqdm as notebook_tqdm\n"
     ]
    }
   ],
   "source": [
    "import os\n",
    "from PIL import Image\n",
    "from torchvision import transforms\n",
    "import pandas as pd\n",
    "import torch\n",
    "import timm"
   ]
  },
  {
   "cell_type": "code",
   "execution_count": 31,
   "metadata": {},
   "outputs": [],
   "source": [
    "df = pd.read_csv(\"./All Appliances_img.csv\")"
   ]
  },
  {
   "cell_type": "code",
   "execution_count": 32,
   "metadata": {},
   "outputs": [
    {
     "data": {
      "text/html": [
       "<div>\n",
       "<style scoped>\n",
       "    .dataframe tbody tr th:only-of-type {\n",
       "        vertical-align: middle;\n",
       "    }\n",
       "\n",
       "    .dataframe tbody tr th {\n",
       "        vertical-align: top;\n",
       "    }\n",
       "\n",
       "    .dataframe thead th {\n",
       "        text-align: right;\n",
       "    }\n",
       "</style>\n",
       "<table border=\"1\" class=\"dataframe\">\n",
       "  <thead>\n",
       "    <tr style=\"text-align: right;\">\n",
       "      <th></th>\n",
       "      <th>Unnamed: 0</th>\n",
       "      <th>name</th>\n",
       "      <th>main_category</th>\n",
       "      <th>sub_category</th>\n",
       "      <th>image</th>\n",
       "      <th>link</th>\n",
       "      <th>ratings</th>\n",
       "      <th>no_of_ratings</th>\n",
       "      <th>discount_price</th>\n",
       "      <th>actual_price</th>\n",
       "      <th>img_path</th>\n",
       "    </tr>\n",
       "  </thead>\n",
       "  <tbody>\n",
       "    <tr>\n",
       "      <th>0</th>\n",
       "      <td>0</td>\n",
       "      <td>Pigeon by Stovekraft Amaze Plus Electric Kettl...</td>\n",
       "      <td>appliances</td>\n",
       "      <td>All Appliances</td>\n",
       "      <td>https://m.media-amazon.com/images/W/IMAGERENDE...</td>\n",
       "      <td>https://www.amazon.in/Pigeon-Amaze-Plus-1-5-Lt...</td>\n",
       "      <td>3.9</td>\n",
       "      <td>128,941</td>\n",
       "      <td>₹599</td>\n",
       "      <td>₹1,245</td>\n",
       "      <td>NaN</td>\n",
       "    </tr>\n",
       "    <tr>\n",
       "      <th>1</th>\n",
       "      <td>1</td>\n",
       "      <td>Pigeon Polypropylene Mini Handy and Compact Ch...</td>\n",
       "      <td>appliances</td>\n",
       "      <td>All Appliances</td>\n",
       "      <td>https://m.media-amazon.com/images/W/IMAGERENDE...</td>\n",
       "      <td>https://www.amazon.in/Pigeon-Stovekraft-Plasti...</td>\n",
       "      <td>4.1</td>\n",
       "      <td>274,505</td>\n",
       "      <td>₹199</td>\n",
       "      <td>₹545</td>\n",
       "      <td>NaN</td>\n",
       "    </tr>\n",
       "    <tr>\n",
       "      <th>2</th>\n",
       "      <td>2</td>\n",
       "      <td>Glun Multipurpose Portable Electronic Digital ...</td>\n",
       "      <td>appliances</td>\n",
       "      <td>All Appliances</td>\n",
       "      <td>https://m.media-amazon.com/images/W/IMAGERENDE...</td>\n",
       "      <td>https://www.amazon.in/Multipurpose-Portable-El...</td>\n",
       "      <td>3.8</td>\n",
       "      <td>365</td>\n",
       "      <td>₹199</td>\n",
       "      <td>₹899</td>\n",
       "      <td>NaN</td>\n",
       "    </tr>\n",
       "    <tr>\n",
       "      <th>3</th>\n",
       "      <td>3</td>\n",
       "      <td>beatXP Kitchen Scale Multipurpose Portable Ele...</td>\n",
       "      <td>appliances</td>\n",
       "      <td>All Appliances</td>\n",
       "      <td>https://m.media-amazon.com/images/W/IMAGERENDE...</td>\n",
       "      <td>https://www.amazon.in/beatXP-Multipurpose-Port...</td>\n",
       "      <td>3.7</td>\n",
       "      <td>3,290</td>\n",
       "      <td>₹299</td>\n",
       "      <td>₹1,999</td>\n",
       "      <td>NaN</td>\n",
       "    </tr>\n",
       "    <tr>\n",
       "      <th>4</th>\n",
       "      <td>4</td>\n",
       "      <td>Bajaj DX-6 1000W Dry Iron with Advance Solepla...</td>\n",
       "      <td>appliances</td>\n",
       "      <td>All Appliances</td>\n",
       "      <td>https://m.media-amazon.com/images/W/IMAGERENDE...</td>\n",
       "      <td>https://www.amazon.in/Bajaj-Majesty-1000-Watt-...</td>\n",
       "      <td>4.2</td>\n",
       "      <td>24,380</td>\n",
       "      <td>₹625</td>\n",
       "      <td>₹1,400</td>\n",
       "      <td>NaN</td>\n",
       "    </tr>\n",
       "  </tbody>\n",
       "</table>\n",
       "</div>"
      ],
      "text/plain": [
       "   Unnamed: 0                                               name  \\\n",
       "0           0  Pigeon by Stovekraft Amaze Plus Electric Kettl...   \n",
       "1           1  Pigeon Polypropylene Mini Handy and Compact Ch...   \n",
       "2           2  Glun Multipurpose Portable Electronic Digital ...   \n",
       "3           3  beatXP Kitchen Scale Multipurpose Portable Ele...   \n",
       "4           4  Bajaj DX-6 1000W Dry Iron with Advance Solepla...   \n",
       "\n",
       "  main_category    sub_category  \\\n",
       "0    appliances  All Appliances   \n",
       "1    appliances  All Appliances   \n",
       "2    appliances  All Appliances   \n",
       "3    appliances  All Appliances   \n",
       "4    appliances  All Appliances   \n",
       "\n",
       "                                               image  \\\n",
       "0  https://m.media-amazon.com/images/W/IMAGERENDE...   \n",
       "1  https://m.media-amazon.com/images/W/IMAGERENDE...   \n",
       "2  https://m.media-amazon.com/images/W/IMAGERENDE...   \n",
       "3  https://m.media-amazon.com/images/W/IMAGERENDE...   \n",
       "4  https://m.media-amazon.com/images/W/IMAGERENDE...   \n",
       "\n",
       "                                                link ratings no_of_ratings  \\\n",
       "0  https://www.amazon.in/Pigeon-Amaze-Plus-1-5-Lt...     3.9       128,941   \n",
       "1  https://www.amazon.in/Pigeon-Stovekraft-Plasti...     4.1       274,505   \n",
       "2  https://www.amazon.in/Multipurpose-Portable-El...     3.8           365   \n",
       "3  https://www.amazon.in/beatXP-Multipurpose-Port...     3.7         3,290   \n",
       "4  https://www.amazon.in/Bajaj-Majesty-1000-Watt-...     4.2        24,380   \n",
       "\n",
       "  discount_price actual_price img_path  \n",
       "0           ₹599       ₹1,245      NaN  \n",
       "1           ₹199         ₹545      NaN  \n",
       "2           ₹199         ₹899      NaN  \n",
       "3           ₹299       ₹1,999      NaN  \n",
       "4           ₹625       ₹1,400      NaN  "
      ]
     },
     "execution_count": 32,
     "metadata": {},
     "output_type": "execute_result"
    }
   ],
   "source": [
    "df.head()"
   ]
  },
  {
   "cell_type": "code",
   "execution_count": 33,
   "metadata": {},
   "outputs": [
    {
     "data": {
      "text/plain": [
       "0       NaN\n",
       "1       NaN\n",
       "2       NaN\n",
       "3       NaN\n",
       "4       NaN\n",
       "       ... \n",
       "9571    NaN\n",
       "9572    NaN\n",
       "9573    NaN\n",
       "9574    NaN\n",
       "9575    NaN\n",
       "Name: img_path, Length: 9576, dtype: object"
      ]
     },
     "execution_count": 33,
     "metadata": {},
     "output_type": "execute_result"
    }
   ],
   "source": [
    "df[\"img_path\"]"
   ]
  },
  {
   "cell_type": "markdown",
   "metadata": {},
   "source": [
    "## csvの画像以外の前処理"
   ]
  },
  {
   "cell_type": "code",
   "execution_count": 34,
   "metadata": {},
   "outputs": [],
   "source": [
    "def preprocessing(input_df):\n",
    "    def price2yen(input_df):\n",
    "        output = input_df.copy()\n",
    "        output = output.dropna(subset=[\"actual_price\"])\n",
    "        output[\"actual_price\"] = output[\"actual_price\"].str.strip(\"₹\")\n",
    "        output[\"actual_price\"] = output[\"actual_price\"].str.replace(\",\",\"\").astype(float)\n",
    "        output[\"actual_price_yen\"] = output[\"actual_price\"] * 110\n",
    "        return output\n",
    "    \n",
    "    def no_of_rate(input_df):\n",
    "        output = input_df.copy()\n",
    "        output = output.dropna(subset=[\"no_of_ratings\"])\n",
    "        #文字情報が含まれている場合、エラーが発生する可能性があるため、エラーハンドリングを追加\n",
    "        output[\"no_of_ratings\"] = pd.to_numeric(output[\"no_of_ratings\"].str.replace(\",\",\"\"), errors='coerce').fillna(0).astype(int)\n",
    "        return output\n",
    "    \n",
    "    def img_path(input_df):\n",
    "        output = input_df.copy()\n",
    "        output = output.dropna(subset=[\"img_path\"])\n",
    "        return output\n",
    "    \n",
    "    output = price2yen(input_df)\n",
    "    output = no_of_rate(output)\n",
    "    output = img_path(output)\n",
    "    return output"
   ]
  },
  {
   "cell_type": "code",
   "execution_count": 35,
   "metadata": {},
   "outputs": [],
   "source": [
    "output_df = preprocessing(df)"
   ]
  },
  {
   "cell_type": "code",
   "execution_count": 36,
   "metadata": {},
   "outputs": [
    {
     "data": {
      "text/plain": [
       "5916"
      ]
     },
     "execution_count": 36,
     "metadata": {},
     "output_type": "execute_result"
    }
   ],
   "source": [
    "len(output_df)"
   ]
  },
  {
   "cell_type": "code",
   "execution_count": 39,
   "metadata": {},
   "outputs": [
    {
     "data": {
      "text/html": [
       "<div>\n",
       "<style scoped>\n",
       "    .dataframe tbody tr th:only-of-type {\n",
       "        vertical-align: middle;\n",
       "    }\n",
       "\n",
       "    .dataframe tbody tr th {\n",
       "        vertical-align: top;\n",
       "    }\n",
       "\n",
       "    .dataframe thead th {\n",
       "        text-align: right;\n",
       "    }\n",
       "</style>\n",
       "<table border=\"1\" class=\"dataframe\">\n",
       "  <thead>\n",
       "    <tr style=\"text-align: right;\">\n",
       "      <th></th>\n",
       "      <th>Unnamed: 0</th>\n",
       "      <th>name</th>\n",
       "      <th>main_category</th>\n",
       "      <th>sub_category</th>\n",
       "      <th>image</th>\n",
       "      <th>link</th>\n",
       "      <th>ratings</th>\n",
       "      <th>no_of_ratings</th>\n",
       "      <th>discount_price</th>\n",
       "      <th>actual_price</th>\n",
       "      <th>img_path</th>\n",
       "      <th>actual_price_yen</th>\n",
       "    </tr>\n",
       "  </thead>\n",
       "  <tbody>\n",
       "    <tr>\n",
       "      <th>72</th>\n",
       "      <td>72</td>\n",
       "      <td>AmazonBasics High Speed 55 Watt Oscillating Pe...</td>\n",
       "      <td>appliances</td>\n",
       "      <td>All Appliances</td>\n",
       "      <td>https://m.media-amazon.com/images/I/71QfUcEOg8...</td>\n",
       "      <td>https://www.amazon.in/AmazonBasics-400mm-Pedes...</td>\n",
       "      <td>4.1</td>\n",
       "      <td>6113</td>\n",
       "      <td>₹2,099</td>\n",
       "      <td>3300.0</td>\n",
       "      <td>/root/graduation_thetis/input/images/72.jpg</td>\n",
       "      <td>363000.0</td>\n",
       "    </tr>\n",
       "    <tr>\n",
       "      <th>73</th>\n",
       "      <td>73</td>\n",
       "      <td>Farberware Mini Blender Fruit Mixer Machine Po...</td>\n",
       "      <td>appliances</td>\n",
       "      <td>All Appliances</td>\n",
       "      <td>https://m.media-amazon.com/images/I/716mmFt0PG...</td>\n",
       "      <td>https://www.amazon.in/Farberware-Portable-Elec...</td>\n",
       "      <td>2.9</td>\n",
       "      <td>6071</td>\n",
       "      <td>₹499</td>\n",
       "      <td>1199.0</td>\n",
       "      <td>/root/graduation_thetis/input/images/73.jpg</td>\n",
       "      <td>131890.0</td>\n",
       "    </tr>\n",
       "    <tr>\n",
       "      <th>74</th>\n",
       "      <td>74</td>\n",
       "      <td>PHILIPS Handheld Garment Steamer STH3000/20 - ...</td>\n",
       "      <td>appliances</td>\n",
       "      <td>All Appliances</td>\n",
       "      <td>https://m.media-amazon.com/images/I/71W2XPQdBq...</td>\n",
       "      <td>https://www.amazon.in/PHILIPS-Handheld-Garment...</td>\n",
       "      <td>4.0</td>\n",
       "      <td>1553</td>\n",
       "      <td>₹3,995</td>\n",
       "      <td>4095.0</td>\n",
       "      <td>/root/graduation_thetis/input/images/74.jpg</td>\n",
       "      <td>450450.0</td>\n",
       "    </tr>\n",
       "    <tr>\n",
       "      <th>75</th>\n",
       "      <td>75</td>\n",
       "      <td>Cookwell Bullet Mixer Grinder (5 Jars, 3 Blade...</td>\n",
       "      <td>appliances</td>\n",
       "      <td>All Appliances</td>\n",
       "      <td>https://m.media-amazon.com/images/I/81yobRRV8n...</td>\n",
       "      <td>https://www.amazon.in/Cookwell-Bullet-Mixer-Gr...</td>\n",
       "      <td>4.1</td>\n",
       "      <td>9592</td>\n",
       "      <td>₹2,479</td>\n",
       "      <td>6000.0</td>\n",
       "      <td>/root/graduation_thetis/input/images/75.jpg</td>\n",
       "      <td>660000.0</td>\n",
       "    </tr>\n",
       "    <tr>\n",
       "      <th>76</th>\n",
       "      <td>76</td>\n",
       "      <td>Bajaj ATX 4 750-Watt Pop-up Toaster, 2-Slice A...</td>\n",
       "      <td>appliances</td>\n",
       "      <td>All Appliances</td>\n",
       "      <td>https://m.media-amazon.com/images/I/51D5T7TGVb...</td>\n",
       "      <td>https://www.amazon.in/Bajaj-ATX-750-Watt-Pop-u...</td>\n",
       "      <td>4.3</td>\n",
       "      <td>9520</td>\n",
       "      <td>₹1,499</td>\n",
       "      <td>2250.0</td>\n",
       "      <td>/root/graduation_thetis/input/images/76.jpg</td>\n",
       "      <td>247500.0</td>\n",
       "    </tr>\n",
       "  </tbody>\n",
       "</table>\n",
       "</div>"
      ],
      "text/plain": [
       "    Unnamed: 0                                               name  \\\n",
       "72          72  AmazonBasics High Speed 55 Watt Oscillating Pe...   \n",
       "73          73  Farberware Mini Blender Fruit Mixer Machine Po...   \n",
       "74          74  PHILIPS Handheld Garment Steamer STH3000/20 - ...   \n",
       "75          75  Cookwell Bullet Mixer Grinder (5 Jars, 3 Blade...   \n",
       "76          76  Bajaj ATX 4 750-Watt Pop-up Toaster, 2-Slice A...   \n",
       "\n",
       "   main_category    sub_category  \\\n",
       "72    appliances  All Appliances   \n",
       "73    appliances  All Appliances   \n",
       "74    appliances  All Appliances   \n",
       "75    appliances  All Appliances   \n",
       "76    appliances  All Appliances   \n",
       "\n",
       "                                                image  \\\n",
       "72  https://m.media-amazon.com/images/I/71QfUcEOg8...   \n",
       "73  https://m.media-amazon.com/images/I/716mmFt0PG...   \n",
       "74  https://m.media-amazon.com/images/I/71W2XPQdBq...   \n",
       "75  https://m.media-amazon.com/images/I/81yobRRV8n...   \n",
       "76  https://m.media-amazon.com/images/I/51D5T7TGVb...   \n",
       "\n",
       "                                                 link ratings  no_of_ratings  \\\n",
       "72  https://www.amazon.in/AmazonBasics-400mm-Pedes...     4.1           6113   \n",
       "73  https://www.amazon.in/Farberware-Portable-Elec...     2.9           6071   \n",
       "74  https://www.amazon.in/PHILIPS-Handheld-Garment...     4.0           1553   \n",
       "75  https://www.amazon.in/Cookwell-Bullet-Mixer-Gr...     4.1           9592   \n",
       "76  https://www.amazon.in/Bajaj-ATX-750-Watt-Pop-u...     4.3           9520   \n",
       "\n",
       "   discount_price  actual_price                                     img_path  \\\n",
       "72         ₹2,099        3300.0  /root/graduation_thetis/input/images/72.jpg   \n",
       "73           ₹499        1199.0  /root/graduation_thetis/input/images/73.jpg   \n",
       "74         ₹3,995        4095.0  /root/graduation_thetis/input/images/74.jpg   \n",
       "75         ₹2,479        6000.0  /root/graduation_thetis/input/images/75.jpg   \n",
       "76         ₹1,499        2250.0  /root/graduation_thetis/input/images/76.jpg   \n",
       "\n",
       "    actual_price_yen  \n",
       "72          363000.0  \n",
       "73          131890.0  \n",
       "74          450450.0  \n",
       "75          660000.0  \n",
       "76          247500.0  "
      ]
     },
     "execution_count": 39,
     "metadata": {},
     "output_type": "execute_result"
    }
   ],
   "source": [
    "output_df.head()"
   ]
  },
  {
   "cell_type": "code",
   "execution_count": 41,
   "metadata": {},
   "outputs": [
    {
     "data": {
      "text/plain": [
       "0"
      ]
     },
     "execution_count": 41,
     "metadata": {},
     "output_type": "execute_result"
    }
   ],
   "source": [
    "output_df[\"img_path\"].isnull().sum()"
   ]
  },
  {
   "cell_type": "code",
   "execution_count": 40,
   "metadata": {},
   "outputs": [],
   "source": [
    "output_df.to_csv(\"./All Appliances_preprocess.csv\",index = False)"
   ]
  },
  {
   "cell_type": "markdown",
   "metadata": {},
   "source": [
    "## 画像部分のembedding作成"
   ]
  },
  {
   "cell_type": "code",
   "execution_count": null,
   "metadata": {},
   "outputs": [],
   "source": [
    "preprocess = transforms.Compose([\n",
    "    transforms.Resize(256),\n",
    "    transforms.CenterCrop(224),\n",
    "    transforms.ToTensor(),\n",
    "    transforms.Normalize(mean=[0.485, 0.456, 0.406], std=[0.229, 0.224, 0.225]),\n",
    "])\n",
    "\n",
    "image_folder = '/root/graduation_thetis/input/images'\n",
    "\n",
    "model = timm.create_model('resnet50', pretrained=True,num_classes = 0)\n",
    "model.eval()\n",
    "\n",
    "for i, row in df.iterrows():\n",
    "    img_path = row[\"img_path\"]\n",
    "    if img_path != None:\n",
    "        img = Image.open(img_path).convert(\"RGB\")\n",
    "        img_tensor = preprocess(img).unsqueeze(0)\n",
    "        if torch.cuda.is_available():\n",
    "            img_tensor = img_tensor.cuda()\n",
    "\n",
    "        # 埋め込みを生成\n",
    "        with torch.no_grad():\n",
    "            embedding = model(img_tensor)\n",
    "        \n",
    "        # 埋め込みの形状を確認\n",
    "        print(f\"Embedding shape for {img_path}: {embedding.shape}\")\n",
    "        \n",
    "        # 埋め込みをDataFrameに保存\n",
    "        df.at[i, 'embedding'] = embedding.cpu().numpy() "
   ]
  },
  {
   "cell_type": "markdown",
   "metadata": {},
   "source": [
    "## embeddingと合わせて交絡を作成する"
   ]
  },
  {
   "cell_type": "code",
   "execution_count": null,
   "metadata": {},
   "outputs": [],
   "source": [
    "theta = 0.5\n",
    "df[\"output\"] = theta * df[\"price_ave\"] + 0.3 * df[\"no_of_ratings\"] + df[\"embedding\"]"
   ]
  },
  {
   "cell_type": "code",
   "execution_count": null,
   "metadata": {},
   "outputs": [],
   "source": [
    "df.to_csv(\"./All Appliances_output.csv\")"
   ]
  }
 ],
 "metadata": {
  "kernelspec": {
   "display_name": ".venv",
   "language": "python",
   "name": "python3"
  },
  "language_info": {
   "codemirror_mode": {
    "name": "ipython",
    "version": 3
   },
   "file_extension": ".py",
   "mimetype": "text/x-python",
   "name": "python",
   "nbconvert_exporter": "python",
   "pygments_lexer": "ipython3",
   "version": "3.8.10"
  }
 },
 "nbformat": 4,
 "nbformat_minor": 2
}
